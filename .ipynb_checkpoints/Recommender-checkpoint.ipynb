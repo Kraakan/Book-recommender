{
 "cells": [
  {
   "cell_type": "code",
   "execution_count": 1,
   "metadata": {},
   "outputs": [
    {
     "name": "stdout",
     "output_type": "stream",
     "text": [
      "Defaulting to user installation because normal site-packages is not writeable\n",
      "Requirement already satisfied: pandas in /home/kraakan/.local/lib/python3.10/site-packages (1.5.1)\n",
      "Requirement already satisfied: numpy>=1.21.0 in /usr/lib/python3/dist-packages (from pandas) (1.21.5)\n",
      "Requirement already satisfied: pytz>=2020.1 in /usr/lib/python3/dist-packages (from pandas) (2022.1)\n",
      "Requirement already satisfied: python-dateutil>=2.8.1 in /usr/lib/python3/dist-packages (from pandas) (2.8.1)\n",
      "Note: you may need to restart the kernel to use updated packages.\n",
      "Defaulting to user installation because normal site-packages is not writeable\n",
      "Collecting html\n",
      "  Using cached html-1.16.tar.gz (7.6 kB)\n",
      "  Preparing metadata (setup.py) ... \u001b[?25lerror\n",
      "  \u001b[1;31merror\u001b[0m: \u001b[1msubprocess-exited-with-error\u001b[0m\n",
      "  \n",
      "  \u001b[31m×\u001b[0m \u001b[32mpython setup.py egg_info\u001b[0m did not run successfully.\n",
      "  \u001b[31m│\u001b[0m exit code: \u001b[1;36m1\u001b[0m\n",
      "  \u001b[31m╰─>\u001b[0m \u001b[31m[6 lines of output]\u001b[0m\n",
      "  \u001b[31m   \u001b[0m Traceback (most recent call last):\n",
      "  \u001b[31m   \u001b[0m   File \"<string>\", line 2, in <module>\n",
      "  \u001b[31m   \u001b[0m   File \"<pip-setuptools-caller>\", line 34, in <module>\n",
      "  \u001b[31m   \u001b[0m   File \"/tmp/pip-install-robny0q9/html_325ee3cf309b4eaaa6913c2217046697/setup.py\", line 12, in <module>\n",
      "  \u001b[31m   \u001b[0m     long_description = __doc__.decode('utf8'),\n",
      "  \u001b[31m   \u001b[0m AttributeError: 'str' object has no attribute 'decode'. Did you mean: 'encode'?\n",
      "  \u001b[31m   \u001b[0m \u001b[31m[end of output]\u001b[0m\n",
      "  \n",
      "  \u001b[1;35mnote\u001b[0m: This error originates from a subprocess, and is likely not a problem with pip.\n",
      "\u001b[1;31merror\u001b[0m: \u001b[1mmetadata-generation-failed\u001b[0m\n",
      "\n",
      "\u001b[31m×\u001b[0m Encountered error while generating package metadata.\n",
      "\u001b[31m╰─>\u001b[0m See above for output.\n",
      "\n",
      "\u001b[1;35mnote\u001b[0m: This is an issue with the package mentioned above, not pip.\n",
      "\u001b[1;36mhint\u001b[0m: See above for details.\n",
      "\u001b[?25hNote: you may need to restart the kernel to use updated packages.\n"
     ]
    }
   ],
   "source": [
    "%pip install pandas\n",
    "%pip install html"
   ]
  },
  {
   "cell_type": "code",
   "execution_count": 2,
   "metadata": {},
   "outputs": [],
   "source": [
    "import pandas as pd\n",
    "import numpy as np"
   ]
  },
  {
   "cell_type": "code",
   "execution_count": 3,
   "metadata": {},
   "outputs": [],
   "source": [
    "# https://stackoverflow.com/questions/40399640/reading-csv-files-with-python-pandas-when-there-is-html-escaped-string-in-ther\n",
    "import html\n",
    "with open('BX-Books.csv', 'r', encoding='latin-1') as f, open('BX-Books-fixed.csv', 'w') as g:\n",
    "    content = html.unescape(f.read())\n",
    "    g.write(content)"
   ]
  },
  {
   "cell_type": "code",
   "execution_count": 4,
   "metadata": {},
   "outputs": [],
   "source": [
    "users = pd.read_csv('BX-Users.csv', delimiter=';', encoding='latin-1')\n",
    "books = pd.read_csv('BX-Books-fixed.csv', sep='(?<=\\\");(?=\\\")', engine='python', encoding='latin-1')\n",
    "# this regex should avoid interpreting semicolons as delimiter chars\n",
    "ratings = pd.read_csv('BX-Book-Ratings.csv', encoding='latin-1', delimiter=';')"
   ]
  },
  {
   "cell_type": "code",
   "execution_count": 5,
   "metadata": {},
   "outputs": [
    {
     "data": {
      "text/html": [
       "<div>\n",
       "<style scoped>\n",
       "    .dataframe tbody tr th:only-of-type {\n",
       "        vertical-align: middle;\n",
       "    }\n",
       "\n",
       "    .dataframe tbody tr th {\n",
       "        vertical-align: top;\n",
       "    }\n",
       "\n",
       "    .dataframe thead th {\n",
       "        text-align: right;\n",
       "    }\n",
       "</style>\n",
       "<table border=\"1\" class=\"dataframe\">\n",
       "  <thead>\n",
       "    <tr style=\"text-align: right;\">\n",
       "      <th></th>\n",
       "      <th>\"ISBN\"</th>\n",
       "      <th>\"Book-Title\"</th>\n",
       "      <th>\"Book-Author\"</th>\n",
       "      <th>\"Year-Of-Publication\"</th>\n",
       "      <th>\"Publisher\"</th>\n",
       "      <th>\"Image-URL-S\"</th>\n",
       "      <th>\"Image-URL-M\"</th>\n",
       "      <th>\"Image-URL-L\"</th>\n",
       "    </tr>\n",
       "  </thead>\n",
       "  <tbody>\n",
       "    <tr>\n",
       "      <th>0</th>\n",
       "      <td>\"0195153448\"</td>\n",
       "      <td>\"Classical Mythology\"</td>\n",
       "      <td>\"Mark P. O. Morford\"</td>\n",
       "      <td>\"2002\"</td>\n",
       "      <td>\"Oxford University Press\"</td>\n",
       "      <td>\"http://images.amazon.com/images/P/0195153448....</td>\n",
       "      <td>\"http://images.amazon.com/images/P/0195153448....</td>\n",
       "      <td>\"http://images.amazon.com/images/P/0195153448....</td>\n",
       "    </tr>\n",
       "    <tr>\n",
       "      <th>1</th>\n",
       "      <td>\"0002005018\"</td>\n",
       "      <td>\"Clara Callan\"</td>\n",
       "      <td>\"Richard Bruce Wright\"</td>\n",
       "      <td>\"2001\"</td>\n",
       "      <td>\"HarperFlamingo Canada\"</td>\n",
       "      <td>\"http://images.amazon.com/images/P/0002005018....</td>\n",
       "      <td>\"http://images.amazon.com/images/P/0002005018....</td>\n",
       "      <td>\"http://images.amazon.com/images/P/0002005018....</td>\n",
       "    </tr>\n",
       "    <tr>\n",
       "      <th>2</th>\n",
       "      <td>\"0060973129\"</td>\n",
       "      <td>\"Decision in Normandy\"</td>\n",
       "      <td>\"Carlo D'Este\"</td>\n",
       "      <td>\"1991\"</td>\n",
       "      <td>\"HarperPerennial\"</td>\n",
       "      <td>\"http://images.amazon.com/images/P/0060973129....</td>\n",
       "      <td>\"http://images.amazon.com/images/P/0060973129....</td>\n",
       "      <td>\"http://images.amazon.com/images/P/0060973129....</td>\n",
       "    </tr>\n",
       "    <tr>\n",
       "      <th>3</th>\n",
       "      <td>\"0374157065\"</td>\n",
       "      <td>\"Flu: The Story of the Great Influenza Pandemi...</td>\n",
       "      <td>\"Gina Bari Kolata\"</td>\n",
       "      <td>\"1999\"</td>\n",
       "      <td>\"Farrar Straus Giroux\"</td>\n",
       "      <td>\"http://images.amazon.com/images/P/0374157065....</td>\n",
       "      <td>\"http://images.amazon.com/images/P/0374157065....</td>\n",
       "      <td>\"http://images.amazon.com/images/P/0374157065....</td>\n",
       "    </tr>\n",
       "    <tr>\n",
       "      <th>4</th>\n",
       "      <td>\"0393045218\"</td>\n",
       "      <td>\"The Mummies of Urumchi\"</td>\n",
       "      <td>\"E. J. W. Barber\"</td>\n",
       "      <td>\"1999\"</td>\n",
       "      <td>\"W. W. Norton &amp; Company\"</td>\n",
       "      <td>\"http://images.amazon.com/images/P/0393045218....</td>\n",
       "      <td>\"http://images.amazon.com/images/P/0393045218....</td>\n",
       "      <td>\"http://images.amazon.com/images/P/0393045218....</td>\n",
       "    </tr>\n",
       "    <tr>\n",
       "      <th>...</th>\n",
       "      <td>...</td>\n",
       "      <td>...</td>\n",
       "      <td>...</td>\n",
       "      <td>...</td>\n",
       "      <td>...</td>\n",
       "      <td>...</td>\n",
       "      <td>...</td>\n",
       "      <td>...</td>\n",
       "    </tr>\n",
       "    <tr>\n",
       "      <th>271374</th>\n",
       "      <td>\"0440400988\"</td>\n",
       "      <td>\"There's a Bat in Bunk Five\"</td>\n",
       "      <td>\"Paula Danziger\"</td>\n",
       "      <td>\"1988\"</td>\n",
       "      <td>\"Random House Childrens Pub (Mm)\"</td>\n",
       "      <td>\"http://images.amazon.com/images/P/0440400988....</td>\n",
       "      <td>\"http://images.amazon.com/images/P/0440400988....</td>\n",
       "      <td>\"http://images.amazon.com/images/P/0440400988....</td>\n",
       "    </tr>\n",
       "    <tr>\n",
       "      <th>271375</th>\n",
       "      <td>\"0525447644\"</td>\n",
       "      <td>\"From One to One Hundred\"</td>\n",
       "      <td>\"Teri Sloat\"</td>\n",
       "      <td>\"1991\"</td>\n",
       "      <td>\"Dutton Books\"</td>\n",
       "      <td>\"http://images.amazon.com/images/P/0525447644....</td>\n",
       "      <td>\"http://images.amazon.com/images/P/0525447644....</td>\n",
       "      <td>\"http://images.amazon.com/images/P/0525447644....</td>\n",
       "    </tr>\n",
       "    <tr>\n",
       "      <th>271376</th>\n",
       "      <td>\"006008667X\"</td>\n",
       "      <td>\"Lily Dale : The True Story of the Town that T...</td>\n",
       "      <td>\"Christine Wicker\"</td>\n",
       "      <td>\"2004\"</td>\n",
       "      <td>\"HarperSanFrancisco\"</td>\n",
       "      <td>\"http://images.amazon.com/images/P/006008667X....</td>\n",
       "      <td>\"http://images.amazon.com/images/P/006008667X....</td>\n",
       "      <td>\"http://images.amazon.com/images/P/006008667X....</td>\n",
       "    </tr>\n",
       "    <tr>\n",
       "      <th>271377</th>\n",
       "      <td>\"0192126040\"</td>\n",
       "      <td>\"Republic (World's Classics)\"</td>\n",
       "      <td>\"Plato\"</td>\n",
       "      <td>\"1996\"</td>\n",
       "      <td>\"Oxford University Press\"</td>\n",
       "      <td>\"http://images.amazon.com/images/P/0192126040....</td>\n",
       "      <td>\"http://images.amazon.com/images/P/0192126040....</td>\n",
       "      <td>\"http://images.amazon.com/images/P/0192126040....</td>\n",
       "    </tr>\n",
       "    <tr>\n",
       "      <th>271378</th>\n",
       "      <td>\"0767409752\"</td>\n",
       "      <td>\"A Guided Tour of Rene Descartes' Meditations ...</td>\n",
       "      <td>\"Christopher  Biffle\"</td>\n",
       "      <td>\"2000\"</td>\n",
       "      <td>\"McGraw-Hill Humanities/Social Sciences/Langua...</td>\n",
       "      <td>\"http://images.amazon.com/images/P/0767409752....</td>\n",
       "      <td>\"http://images.amazon.com/images/P/0767409752....</td>\n",
       "      <td>\"http://images.amazon.com/images/P/0767409752....</td>\n",
       "    </tr>\n",
       "  </tbody>\n",
       "</table>\n",
       "<p>271379 rows × 8 columns</p>\n",
       "</div>"
      ],
      "text/plain": [
       "              \"ISBN\"                                       \"Book-Title\"  \\\n",
       "0       \"0195153448\"                              \"Classical Mythology\"   \n",
       "1       \"0002005018\"                                     \"Clara Callan\"   \n",
       "2       \"0060973129\"                             \"Decision in Normandy\"   \n",
       "3       \"0374157065\"  \"Flu: The Story of the Great Influenza Pandemi...   \n",
       "4       \"0393045218\"                           \"The Mummies of Urumchi\"   \n",
       "...              ...                                                ...   \n",
       "271374  \"0440400988\"                       \"There's a Bat in Bunk Five\"   \n",
       "271375  \"0525447644\"                          \"From One to One Hundred\"   \n",
       "271376  \"006008667X\"  \"Lily Dale : The True Story of the Town that T...   \n",
       "271377  \"0192126040\"                      \"Republic (World's Classics)\"   \n",
       "271378  \"0767409752\"  \"A Guided Tour of Rene Descartes' Meditations ...   \n",
       "\n",
       "                 \"Book-Author\" \"Year-Of-Publication\"  \\\n",
       "0         \"Mark P. O. Morford\"                \"2002\"   \n",
       "1       \"Richard Bruce Wright\"                \"2001\"   \n",
       "2               \"Carlo D'Este\"                \"1991\"   \n",
       "3           \"Gina Bari Kolata\"                \"1999\"   \n",
       "4            \"E. J. W. Barber\"                \"1999\"   \n",
       "...                        ...                   ...   \n",
       "271374        \"Paula Danziger\"                \"1988\"   \n",
       "271375            \"Teri Sloat\"                \"1991\"   \n",
       "271376      \"Christine Wicker\"                \"2004\"   \n",
       "271377                 \"Plato\"                \"1996\"   \n",
       "271378   \"Christopher  Biffle\"                \"2000\"   \n",
       "\n",
       "                                              \"Publisher\"  \\\n",
       "0                               \"Oxford University Press\"   \n",
       "1                                 \"HarperFlamingo Canada\"   \n",
       "2                                       \"HarperPerennial\"   \n",
       "3                                  \"Farrar Straus Giroux\"   \n",
       "4                                \"W. W. Norton & Company\"   \n",
       "...                                                   ...   \n",
       "271374                  \"Random House Childrens Pub (Mm)\"   \n",
       "271375                                     \"Dutton Books\"   \n",
       "271376                               \"HarperSanFrancisco\"   \n",
       "271377                          \"Oxford University Press\"   \n",
       "271378  \"McGraw-Hill Humanities/Social Sciences/Langua...   \n",
       "\n",
       "                                            \"Image-URL-S\"  \\\n",
       "0       \"http://images.amazon.com/images/P/0195153448....   \n",
       "1       \"http://images.amazon.com/images/P/0002005018....   \n",
       "2       \"http://images.amazon.com/images/P/0060973129....   \n",
       "3       \"http://images.amazon.com/images/P/0374157065....   \n",
       "4       \"http://images.amazon.com/images/P/0393045218....   \n",
       "...                                                   ...   \n",
       "271374  \"http://images.amazon.com/images/P/0440400988....   \n",
       "271375  \"http://images.amazon.com/images/P/0525447644....   \n",
       "271376  \"http://images.amazon.com/images/P/006008667X....   \n",
       "271377  \"http://images.amazon.com/images/P/0192126040....   \n",
       "271378  \"http://images.amazon.com/images/P/0767409752....   \n",
       "\n",
       "                                            \"Image-URL-M\"  \\\n",
       "0       \"http://images.amazon.com/images/P/0195153448....   \n",
       "1       \"http://images.amazon.com/images/P/0002005018....   \n",
       "2       \"http://images.amazon.com/images/P/0060973129....   \n",
       "3       \"http://images.amazon.com/images/P/0374157065....   \n",
       "4       \"http://images.amazon.com/images/P/0393045218....   \n",
       "...                                                   ...   \n",
       "271374  \"http://images.amazon.com/images/P/0440400988....   \n",
       "271375  \"http://images.amazon.com/images/P/0525447644....   \n",
       "271376  \"http://images.amazon.com/images/P/006008667X....   \n",
       "271377  \"http://images.amazon.com/images/P/0192126040....   \n",
       "271378  \"http://images.amazon.com/images/P/0767409752....   \n",
       "\n",
       "                                            \"Image-URL-L\"  \n",
       "0       \"http://images.amazon.com/images/P/0195153448....  \n",
       "1       \"http://images.amazon.com/images/P/0002005018....  \n",
       "2       \"http://images.amazon.com/images/P/0060973129....  \n",
       "3       \"http://images.amazon.com/images/P/0374157065....  \n",
       "4       \"http://images.amazon.com/images/P/0393045218....  \n",
       "...                                                   ...  \n",
       "271374  \"http://images.amazon.com/images/P/0440400988....  \n",
       "271375  \"http://images.amazon.com/images/P/0525447644....  \n",
       "271376  \"http://images.amazon.com/images/P/006008667X....  \n",
       "271377  \"http://images.amazon.com/images/P/0192126040....  \n",
       "271378  \"http://images.amazon.com/images/P/0767409752....  \n",
       "\n",
       "[271379 rows x 8 columns]"
      ]
     },
     "execution_count": 5,
     "metadata": {},
     "output_type": "execute_result"
    }
   ],
   "source": [
    "books"
   ]
  },
  {
   "cell_type": "code",
   "execution_count": 6,
   "metadata": {},
   "outputs": [
    {
     "data": {
      "text/html": [
       "<div>\n",
       "<style scoped>\n",
       "    .dataframe tbody tr th:only-of-type {\n",
       "        vertical-align: middle;\n",
       "    }\n",
       "\n",
       "    .dataframe tbody tr th {\n",
       "        vertical-align: top;\n",
       "    }\n",
       "\n",
       "    .dataframe thead th {\n",
       "        text-align: right;\n",
       "    }\n",
       "</style>\n",
       "<table border=\"1\" class=\"dataframe\">\n",
       "  <thead>\n",
       "    <tr style=\"text-align: right;\">\n",
       "      <th></th>\n",
       "      <th>User-ID</th>\n",
       "      <th>ISBN</th>\n",
       "      <th>Book-Rating</th>\n",
       "    </tr>\n",
       "  </thead>\n",
       "  <tbody>\n",
       "    <tr>\n",
       "      <th>0</th>\n",
       "      <td>276725</td>\n",
       "      <td>034545104X</td>\n",
       "      <td>0</td>\n",
       "    </tr>\n",
       "    <tr>\n",
       "      <th>1</th>\n",
       "      <td>276726</td>\n",
       "      <td>0155061224</td>\n",
       "      <td>5</td>\n",
       "    </tr>\n",
       "    <tr>\n",
       "      <th>2</th>\n",
       "      <td>276727</td>\n",
       "      <td>0446520802</td>\n",
       "      <td>0</td>\n",
       "    </tr>\n",
       "    <tr>\n",
       "      <th>3</th>\n",
       "      <td>276729</td>\n",
       "      <td>052165615X</td>\n",
       "      <td>3</td>\n",
       "    </tr>\n",
       "    <tr>\n",
       "      <th>4</th>\n",
       "      <td>276729</td>\n",
       "      <td>0521795028</td>\n",
       "      <td>6</td>\n",
       "    </tr>\n",
       "    <tr>\n",
       "      <th>...</th>\n",
       "      <td>...</td>\n",
       "      <td>...</td>\n",
       "      <td>...</td>\n",
       "    </tr>\n",
       "    <tr>\n",
       "      <th>1149775</th>\n",
       "      <td>276704</td>\n",
       "      <td>1563526298</td>\n",
       "      <td>9</td>\n",
       "    </tr>\n",
       "    <tr>\n",
       "      <th>1149776</th>\n",
       "      <td>276706</td>\n",
       "      <td>0679447156</td>\n",
       "      <td>0</td>\n",
       "    </tr>\n",
       "    <tr>\n",
       "      <th>1149777</th>\n",
       "      <td>276709</td>\n",
       "      <td>0515107662</td>\n",
       "      <td>10</td>\n",
       "    </tr>\n",
       "    <tr>\n",
       "      <th>1149778</th>\n",
       "      <td>276721</td>\n",
       "      <td>0590442449</td>\n",
       "      <td>10</td>\n",
       "    </tr>\n",
       "    <tr>\n",
       "      <th>1149779</th>\n",
       "      <td>276723</td>\n",
       "      <td>05162443314</td>\n",
       "      <td>8</td>\n",
       "    </tr>\n",
       "  </tbody>\n",
       "</table>\n",
       "<p>1149780 rows × 3 columns</p>\n",
       "</div>"
      ],
      "text/plain": [
       "         User-ID         ISBN  Book-Rating\n",
       "0         276725   034545104X            0\n",
       "1         276726   0155061224            5\n",
       "2         276727   0446520802            0\n",
       "3         276729   052165615X            3\n",
       "4         276729   0521795028            6\n",
       "...          ...          ...          ...\n",
       "1149775   276704   1563526298            9\n",
       "1149776   276706   0679447156            0\n",
       "1149777   276709   0515107662           10\n",
       "1149778   276721   0590442449           10\n",
       "1149779   276723  05162443314            8\n",
       "\n",
       "[1149780 rows x 3 columns]"
      ]
     },
     "execution_count": 6,
     "metadata": {},
     "output_type": "execute_result"
    }
   ],
   "source": [
    "ratings"
   ]
  },
  {
   "cell_type": "code",
   "execution_count": 8,
   "metadata": {},
   "outputs": [
    {
     "data": {
      "text/plain": [
       "0          276725\n",
       "1          276726\n",
       "2          276727\n",
       "3          276729\n",
       "4          276729\n",
       "            ...  \n",
       "1149775    276704\n",
       "1149776    276706\n",
       "1149777    276709\n",
       "1149778    276721\n",
       "1149779    276723\n",
       "Name: User-ID, Length: 1149780, dtype: int64"
      ]
     },
     "execution_count": 8,
     "metadata": {},
     "output_type": "execute_result"
    }
   ],
   "source": [
    "ratings['User-ID'].reset_index(drop=True)"
   ]
  },
  {
   "cell_type": "code",
   "execution_count": null,
   "metadata": {},
   "outputs": [],
   "source": []
  },
  {
   "cell_type": "code",
   "execution_count": 9,
   "metadata": {},
   "outputs": [
    {
     "data": {
      "text/html": [
       "<div>\n",
       "<style scoped>\n",
       "    .dataframe tbody tr th:only-of-type {\n",
       "        vertical-align: middle;\n",
       "    }\n",
       "\n",
       "    .dataframe tbody tr th {\n",
       "        vertical-align: top;\n",
       "    }\n",
       "\n",
       "    .dataframe thead th {\n",
       "        text-align: right;\n",
       "    }\n",
       "</style>\n",
       "<table border=\"1\" class=\"dataframe\">\n",
       "  <thead>\n",
       "    <tr style=\"text-align: right;\">\n",
       "      <th></th>\n",
       "      <th>User-ID</th>\n",
       "      <th>ISBN</th>\n",
       "      <th>Book-Rating</th>\n",
       "    </tr>\n",
       "  </thead>\n",
       "  <tbody>\n",
       "    <tr>\n",
       "      <th>9584</th>\n",
       "      <td>10</td>\n",
       "      <td>1841721522</td>\n",
       "      <td>0</td>\n",
       "    </tr>\n",
       "    <tr>\n",
       "      <th>9585</th>\n",
       "      <td>10</td>\n",
       "      <td>8477024456</td>\n",
       "      <td>6</td>\n",
       "    </tr>\n",
       "  </tbody>\n",
       "</table>\n",
       "</div>"
      ],
      "text/plain": [
       "      User-ID        ISBN  Book-Rating\n",
       "9584       10  1841721522            0\n",
       "9585       10  8477024456            6"
      ]
     },
     "execution_count": 9,
     "metadata": {},
     "output_type": "execute_result"
    }
   ],
   "source": [
    "ratings[ratings['User-ID'] == 10]"
   ]
  },
  {
   "cell_type": "markdown",
   "metadata": {},
   "source": []
  },
  {
   "cell_type": "code",
   "execution_count": 10,
   "metadata": {},
   "outputs": [
    {
     "name": "stdout",
     "output_type": "stream",
     "text": [
      "0    nyc, new york, usa\n",
      "Name: Location, dtype: object\n"
     ]
    }
   ],
   "source": [
    "print(users[0:1]['Location'])"
   ]
  },
  {
   "cell_type": "code",
   "execution_count": 11,
   "metadata": {},
   "outputs": [
    {
     "data": {
      "text/plain": [
       "str"
      ]
     },
     "execution_count": 11,
     "metadata": {},
     "output_type": "execute_result"
    }
   ],
   "source": [
    "type(users[0:1]['Location'][0])"
   ]
  },
  {
   "cell_type": "code",
   "execution_count": 12,
   "metadata": {},
   "outputs": [
    {
     "data": {
      "text/html": [
       "<div>\n",
       "<style scoped>\n",
       "    .dataframe tbody tr th:only-of-type {\n",
       "        vertical-align: middle;\n",
       "    }\n",
       "\n",
       "    .dataframe tbody tr th {\n",
       "        vertical-align: top;\n",
       "    }\n",
       "\n",
       "    .dataframe thead th {\n",
       "        text-align: right;\n",
       "    }\n",
       "</style>\n",
       "<table border=\"1\" class=\"dataframe\">\n",
       "  <thead>\n",
       "    <tr style=\"text-align: right;\">\n",
       "      <th></th>\n",
       "      <th>User-ID</th>\n",
       "      <th>ISBN</th>\n",
       "      <th>Book-Rating</th>\n",
       "    </tr>\n",
       "  </thead>\n",
       "  <tbody>\n",
       "    <tr>\n",
       "      <th>0</th>\n",
       "      <td>276725</td>\n",
       "      <td>034545104X</td>\n",
       "      <td>0</td>\n",
       "    </tr>\n",
       "    <tr>\n",
       "      <th>1</th>\n",
       "      <td>276726</td>\n",
       "      <td>0155061224</td>\n",
       "      <td>5</td>\n",
       "    </tr>\n",
       "    <tr>\n",
       "      <th>2</th>\n",
       "      <td>276727</td>\n",
       "      <td>0446520802</td>\n",
       "      <td>0</td>\n",
       "    </tr>\n",
       "    <tr>\n",
       "      <th>3</th>\n",
       "      <td>276729</td>\n",
       "      <td>052165615X</td>\n",
       "      <td>3</td>\n",
       "    </tr>\n",
       "    <tr>\n",
       "      <th>4</th>\n",
       "      <td>276729</td>\n",
       "      <td>0521795028</td>\n",
       "      <td>6</td>\n",
       "    </tr>\n",
       "  </tbody>\n",
       "</table>\n",
       "</div>"
      ],
      "text/plain": [
       "   User-ID        ISBN  Book-Rating\n",
       "0   276725  034545104X            0\n",
       "1   276726  0155061224            5\n",
       "2   276727  0446520802            0\n",
       "3   276729  052165615X            3\n",
       "4   276729  0521795028            6"
      ]
     },
     "execution_count": 12,
     "metadata": {},
     "output_type": "execute_result"
    }
   ],
   "source": [
    "ratings.head()"
   ]
  },
  {
   "cell_type": "code",
   "execution_count": 13,
   "metadata": {},
   "outputs": [
    {
     "name": "stdout",
     "output_type": "stream",
     "text": [
      "<class 'pandas.core.frame.DataFrame'>\n",
      "RangeIndex: 271379 entries, 0 to 271378\n",
      "Data columns (total 8 columns):\n",
      " #   Column                 Non-Null Count   Dtype \n",
      "---  ------                 --------------   ----- \n",
      " 0   \"ISBN\"                 271379 non-null  object\n",
      " 1   \"Book-Title\"           271379 non-null  object\n",
      " 2   \"Book-Author\"          271379 non-null  object\n",
      " 3   \"Year-Of-Publication\"  271379 non-null  object\n",
      " 4   \"Publisher\"            271379 non-null  object\n",
      " 5   \"Image-URL-S\"          271379 non-null  object\n",
      " 6   \"Image-URL-M\"          271379 non-null  object\n",
      " 7   \"Image-URL-L\"          271379 non-null  object\n",
      "dtypes: object(8)\n",
      "memory usage: 16.6+ MB\n"
     ]
    }
   ],
   "source": [
    "books.info()"
   ]
  },
  {
   "cell_type": "code",
   "execution_count": null,
   "metadata": {},
   "outputs": [],
   "source": [
    "type(books['ISBN'][1])"
   ]
  },
  {
   "cell_type": "code",
   "execution_count": null,
   "metadata": {},
   "outputs": [],
   "source": [
    "users.info()"
   ]
  },
  {
   "cell_type": "code",
   "execution_count": null,
   "metadata": {},
   "outputs": [],
   "source": [
    "ratings.info()"
   ]
  },
  {
   "cell_type": "markdown",
   "metadata": {},
   "source": [
    "The data looks pretty good.\n",
    "I want to add fields for number of reviews to the users and books."
   ]
  },
  {
   "cell_type": "code",
   "execution_count": null,
   "metadata": {},
   "outputs": [],
   "source": [
    "# EDA what now?\n",
    "import seaborn as sn\n",
    "import matplotlib.pyplot as plt\n",
    "from matplotlib.pyplot import figure\n",
    "\n",
    "sn.histplot(data=ratings, x=\"User-ID\", stat='frequency')\n",
    "plt.show()"
   ]
  },
  {
   "cell_type": "markdown",
   "metadata": {},
   "source": [
    "This graph gives an idea of the average number of ratings per user, but it's misleading because it doesn't show that over half the users have no ratings."
   ]
  },
  {
   "cell_type": "code",
   "execution_count": null,
   "metadata": {},
   "outputs": [],
   "source": [
    "print('Number of users with reviews: ', len(pd.unique(ratings['User-ID'])), 'out of', len(users), 'users')\n",
    "print('Number of books reviewed: ', len(pd.unique(ratings['ISBN'])), 'out of', len(books), 'books (???)')\n",
    "print(\"This can't be right! Either there is a problem with the ISBNs in the ratings file, or some of the books aren't listed.\")"
   ]
  },
  {
   "cell_type": "code",
   "execution_count": null,
   "metadata": {},
   "outputs": [],
   "source": [
    "ratings.head()"
   ]
  },
  {
   "cell_type": "code",
   "execution_count": null,
   "metadata": {},
   "outputs": [],
   "source": [
    "ratings.loc[ratings['ISBN'] == '0192126040']"
   ]
  },
  {
   "cell_type": "code",
   "execution_count": 14,
   "metadata": {},
   "outputs": [],
   "source": [
    "mean_ratings = ratings.groupby(['ISBN'], sort=False, as_index=False).mean()"
   ]
  },
  {
   "cell_type": "code",
   "execution_count": 15,
   "metadata": {},
   "outputs": [
    {
     "data": {
      "text/html": [
       "<div>\n",
       "<style scoped>\n",
       "    .dataframe tbody tr th:only-of-type {\n",
       "        vertical-align: middle;\n",
       "    }\n",
       "\n",
       "    .dataframe tbody tr th {\n",
       "        vertical-align: top;\n",
       "    }\n",
       "\n",
       "    .dataframe thead th {\n",
       "        text-align: right;\n",
       "    }\n",
       "</style>\n",
       "<table border=\"1\" class=\"dataframe\">\n",
       "  <thead>\n",
       "    <tr style=\"text-align: right;\">\n",
       "      <th></th>\n",
       "      <th>ISBN</th>\n",
       "      <th>User-ID</th>\n",
       "      <th>Book-Rating</th>\n",
       "    </tr>\n",
       "  </thead>\n",
       "  <tbody>\n",
       "    <tr>\n",
       "      <th>0</th>\n",
       "      <td>034545104X</td>\n",
       "      <td>149116.050000</td>\n",
       "      <td>2.933333</td>\n",
       "    </tr>\n",
       "    <tr>\n",
       "      <th>1</th>\n",
       "      <td>0155061224</td>\n",
       "      <td>217953.500000</td>\n",
       "      <td>2.500000</td>\n",
       "    </tr>\n",
       "    <tr>\n",
       "      <th>2</th>\n",
       "      <td>0446520802</td>\n",
       "      <td>147850.715517</td>\n",
       "      <td>4.060345</td>\n",
       "    </tr>\n",
       "    <tr>\n",
       "      <th>3</th>\n",
       "      <td>052165615X</td>\n",
       "      <td>276729.000000</td>\n",
       "      <td>3.000000</td>\n",
       "    </tr>\n",
       "    <tr>\n",
       "      <th>4</th>\n",
       "      <td>0521795028</td>\n",
       "      <td>276729.000000</td>\n",
       "      <td>6.000000</td>\n",
       "    </tr>\n",
       "    <tr>\n",
       "      <th>...</th>\n",
       "      <td>...</td>\n",
       "      <td>...</td>\n",
       "      <td>...</td>\n",
       "    </tr>\n",
       "    <tr>\n",
       "      <th>340551</th>\n",
       "      <td>1575660792</td>\n",
       "      <td>276688.000000</td>\n",
       "      <td>7.000000</td>\n",
       "    </tr>\n",
       "    <tr>\n",
       "      <th>340552</th>\n",
       "      <td>0590907301</td>\n",
       "      <td>276690.000000</td>\n",
       "      <td>0.000000</td>\n",
       "    </tr>\n",
       "    <tr>\n",
       "      <th>340553</th>\n",
       "      <td>0679752714</td>\n",
       "      <td>276704.000000</td>\n",
       "      <td>0.000000</td>\n",
       "    </tr>\n",
       "    <tr>\n",
       "      <th>340554</th>\n",
       "      <td>0806917695</td>\n",
       "      <td>276704.000000</td>\n",
       "      <td>5.000000</td>\n",
       "    </tr>\n",
       "    <tr>\n",
       "      <th>340555</th>\n",
       "      <td>05162443314</td>\n",
       "      <td>276723.000000</td>\n",
       "      <td>8.000000</td>\n",
       "    </tr>\n",
       "  </tbody>\n",
       "</table>\n",
       "<p>340556 rows × 3 columns</p>\n",
       "</div>"
      ],
      "text/plain": [
       "               ISBN        User-ID  Book-Rating\n",
       "0        034545104X  149116.050000     2.933333\n",
       "1        0155061224  217953.500000     2.500000\n",
       "2        0446520802  147850.715517     4.060345\n",
       "3        052165615X  276729.000000     3.000000\n",
       "4        0521795028  276729.000000     6.000000\n",
       "...             ...            ...          ...\n",
       "340551   1575660792  276688.000000     7.000000\n",
       "340552   0590907301  276690.000000     0.000000\n",
       "340553   0679752714  276704.000000     0.000000\n",
       "340554   0806917695  276704.000000     5.000000\n",
       "340555  05162443314  276723.000000     8.000000\n",
       "\n",
       "[340556 rows x 3 columns]"
      ]
     },
     "execution_count": 15,
     "metadata": {},
     "output_type": "execute_result"
    }
   ],
   "source": [
    "mean_ratings"
   ]
  },
  {
   "cell_type": "code",
   "execution_count": 16,
   "metadata": {},
   "outputs": [],
   "source": [
    "rating_counts = ratings.groupby(['ISBN'], sort=False, as_index=False).count()"
   ]
  },
  {
   "cell_type": "code",
   "execution_count": 17,
   "metadata": {},
   "outputs": [
    {
     "data": {
      "text/html": [
       "<div>\n",
       "<style scoped>\n",
       "    .dataframe tbody tr th:only-of-type {\n",
       "        vertical-align: middle;\n",
       "    }\n",
       "\n",
       "    .dataframe tbody tr th {\n",
       "        vertical-align: top;\n",
       "    }\n",
       "\n",
       "    .dataframe thead th {\n",
       "        text-align: right;\n",
       "    }\n",
       "</style>\n",
       "<table border=\"1\" class=\"dataframe\">\n",
       "  <thead>\n",
       "    <tr style=\"text-align: right;\">\n",
       "      <th></th>\n",
       "      <th>ISBN</th>\n",
       "      <th>User-ID</th>\n",
       "      <th>Book-Rating</th>\n",
       "    </tr>\n",
       "  </thead>\n",
       "  <tbody>\n",
       "    <tr>\n",
       "      <th>0</th>\n",
       "      <td>034545104X</td>\n",
       "      <td>60</td>\n",
       "      <td>60</td>\n",
       "    </tr>\n",
       "    <tr>\n",
       "      <th>1</th>\n",
       "      <td>0155061224</td>\n",
       "      <td>2</td>\n",
       "      <td>2</td>\n",
       "    </tr>\n",
       "    <tr>\n",
       "      <th>2</th>\n",
       "      <td>0446520802</td>\n",
       "      <td>116</td>\n",
       "      <td>116</td>\n",
       "    </tr>\n",
       "    <tr>\n",
       "      <th>3</th>\n",
       "      <td>052165615X</td>\n",
       "      <td>1</td>\n",
       "      <td>1</td>\n",
       "    </tr>\n",
       "    <tr>\n",
       "      <th>4</th>\n",
       "      <td>0521795028</td>\n",
       "      <td>1</td>\n",
       "      <td>1</td>\n",
       "    </tr>\n",
       "    <tr>\n",
       "      <th>...</th>\n",
       "      <td>...</td>\n",
       "      <td>...</td>\n",
       "      <td>...</td>\n",
       "    </tr>\n",
       "    <tr>\n",
       "      <th>340551</th>\n",
       "      <td>1575660792</td>\n",
       "      <td>1</td>\n",
       "      <td>1</td>\n",
       "    </tr>\n",
       "    <tr>\n",
       "      <th>340552</th>\n",
       "      <td>0590907301</td>\n",
       "      <td>1</td>\n",
       "      <td>1</td>\n",
       "    </tr>\n",
       "    <tr>\n",
       "      <th>340553</th>\n",
       "      <td>0679752714</td>\n",
       "      <td>1</td>\n",
       "      <td>1</td>\n",
       "    </tr>\n",
       "    <tr>\n",
       "      <th>340554</th>\n",
       "      <td>0806917695</td>\n",
       "      <td>1</td>\n",
       "      <td>1</td>\n",
       "    </tr>\n",
       "    <tr>\n",
       "      <th>340555</th>\n",
       "      <td>05162443314</td>\n",
       "      <td>1</td>\n",
       "      <td>1</td>\n",
       "    </tr>\n",
       "  </tbody>\n",
       "</table>\n",
       "<p>340556 rows × 3 columns</p>\n",
       "</div>"
      ],
      "text/plain": [
       "               ISBN  User-ID  Book-Rating\n",
       "0        034545104X       60           60\n",
       "1        0155061224        2            2\n",
       "2        0446520802      116          116\n",
       "3        052165615X        1            1\n",
       "4        0521795028        1            1\n",
       "...             ...      ...          ...\n",
       "340551   1575660792        1            1\n",
       "340552   0590907301        1            1\n",
       "340553   0679752714        1            1\n",
       "340554   0806917695        1            1\n",
       "340555  05162443314        1            1\n",
       "\n",
       "[340556 rows x 3 columns]"
      ]
     },
     "execution_count": 17,
     "metadata": {},
     "output_type": "execute_result"
    }
   ],
   "source": [
    "rating_counts"
   ]
  },
  {
   "cell_type": "code",
   "execution_count": 18,
   "metadata": {},
   "outputs": [],
   "source": [
    "books_with_ratings = mean_ratings.merge(rating_counts, on='ISBN', suffixes=('-Mean', '-Count')).drop(['User-ID-Mean', 'User-ID-Count'], axis=1)"
   ]
  },
  {
   "cell_type": "code",
   "execution_count": 19,
   "metadata": {},
   "outputs": [
    {
     "data": {
      "text/html": [
       "<div>\n",
       "<style scoped>\n",
       "    .dataframe tbody tr th:only-of-type {\n",
       "        vertical-align: middle;\n",
       "    }\n",
       "\n",
       "    .dataframe tbody tr th {\n",
       "        vertical-align: top;\n",
       "    }\n",
       "\n",
       "    .dataframe thead th {\n",
       "        text-align: right;\n",
       "    }\n",
       "</style>\n",
       "<table border=\"1\" class=\"dataframe\">\n",
       "  <thead>\n",
       "    <tr style=\"text-align: right;\">\n",
       "      <th></th>\n",
       "      <th>ISBN</th>\n",
       "      <th>Book-Rating-Mean</th>\n",
       "      <th>Book-Rating-Count</th>\n",
       "    </tr>\n",
       "  </thead>\n",
       "  <tbody>\n",
       "    <tr>\n",
       "      <th>155265</th>\n",
       "      <td>3455019080</td>\n",
       "      <td>10.0</td>\n",
       "      <td>1</td>\n",
       "    </tr>\n",
       "    <tr>\n",
       "      <th>243967</th>\n",
       "      <td>8806156225</td>\n",
       "      <td>10.0</td>\n",
       "      <td>1</td>\n",
       "    </tr>\n",
       "    <tr>\n",
       "      <th>104467</th>\n",
       "      <td>0875884520</td>\n",
       "      <td>10.0</td>\n",
       "      <td>1</td>\n",
       "    </tr>\n",
       "    <tr>\n",
       "      <th>176813</th>\n",
       "      <td>0345462831</td>\n",
       "      <td>10.0</td>\n",
       "      <td>1</td>\n",
       "    </tr>\n",
       "    <tr>\n",
       "      <th>104466</th>\n",
       "      <td>087196676X</td>\n",
       "      <td>10.0</td>\n",
       "      <td>1</td>\n",
       "    </tr>\n",
       "    <tr>\n",
       "      <th>...</th>\n",
       "      <td>...</td>\n",
       "      <td>...</td>\n",
       "      <td>...</td>\n",
       "    </tr>\n",
       "    <tr>\n",
       "      <th>217468</th>\n",
       "      <td>9500720434</td>\n",
       "      <td>0.0</td>\n",
       "      <td>1</td>\n",
       "    </tr>\n",
       "    <tr>\n",
       "      <th>217469</th>\n",
       "      <td>9505114354</td>\n",
       "      <td>0.0</td>\n",
       "      <td>1</td>\n",
       "    </tr>\n",
       "    <tr>\n",
       "      <th>87339</th>\n",
       "      <td>0824511492</td>\n",
       "      <td>0.0</td>\n",
       "      <td>1</td>\n",
       "    </tr>\n",
       "    <tr>\n",
       "      <th>87338</th>\n",
       "      <td>0824510445</td>\n",
       "      <td>0.0</td>\n",
       "      <td>2</td>\n",
       "    </tr>\n",
       "    <tr>\n",
       "      <th>170278</th>\n",
       "      <td>0684195860</td>\n",
       "      <td>0.0</td>\n",
       "      <td>1</td>\n",
       "    </tr>\n",
       "  </tbody>\n",
       "</table>\n",
       "<p>340556 rows × 3 columns</p>\n",
       "</div>"
      ],
      "text/plain": [
       "              ISBN  Book-Rating-Mean  Book-Rating-Count\n",
       "155265  3455019080              10.0                  1\n",
       "243967  8806156225              10.0                  1\n",
       "104467  0875884520              10.0                  1\n",
       "176813  0345462831              10.0                  1\n",
       "104466  087196676X              10.0                  1\n",
       "...            ...               ...                ...\n",
       "217468  9500720434               0.0                  1\n",
       "217469  9505114354               0.0                  1\n",
       "87339   0824511492               0.0                  1\n",
       "87338   0824510445               0.0                  2\n",
       "170278  0684195860               0.0                  1\n",
       "\n",
       "[340556 rows x 3 columns]"
      ]
     },
     "execution_count": 19,
     "metadata": {},
     "output_type": "execute_result"
    }
   ],
   "source": [
    "books_with_ratings.sort_values(by='Book-Rating-Mean', ascending=False)"
   ]
  },
  {
   "cell_type": "markdown",
   "metadata": {},
   "source": [
    "I'd like to list the most popular books, and since the highest rated ones all have just one rating, I'm going to set a limit of, let's say, 50 reveiews."
   ]
  },
  {
   "cell_type": "code",
   "execution_count": 20,
   "metadata": {},
   "outputs": [
    {
     "data": {
      "text/html": [
       "<div>\n",
       "<style scoped>\n",
       "    .dataframe tbody tr th:only-of-type {\n",
       "        vertical-align: middle;\n",
       "    }\n",
       "\n",
       "    .dataframe tbody tr th {\n",
       "        vertical-align: top;\n",
       "    }\n",
       "\n",
       "    .dataframe thead th {\n",
       "        text-align: right;\n",
       "    }\n",
       "</style>\n",
       "<table border=\"1\" class=\"dataframe\">\n",
       "  <thead>\n",
       "    <tr style=\"text-align: right;\">\n",
       "      <th></th>\n",
       "      <th>ISBN</th>\n",
       "      <th>Book-Rating-Mean</th>\n",
       "      <th>Book-Rating-Count</th>\n",
       "    </tr>\n",
       "  </thead>\n",
       "  <tbody>\n",
       "    <tr>\n",
       "      <th>13715</th>\n",
       "      <td>1844262553</td>\n",
       "      <td>7.962963</td>\n",
       "      <td>54</td>\n",
       "    </tr>\n",
       "    <tr>\n",
       "      <th>529</th>\n",
       "      <td>0439064864</td>\n",
       "      <td>6.611765</td>\n",
       "      <td>170</td>\n",
       "    </tr>\n",
       "    <tr>\n",
       "      <th>9496</th>\n",
       "      <td>0439139597</td>\n",
       "      <td>6.541237</td>\n",
       "      <td>194</td>\n",
       "    </tr>\n",
       "    <tr>\n",
       "      <th>9495</th>\n",
       "      <td>0439136350</td>\n",
       "      <td>6.467005</td>\n",
       "      <td>197</td>\n",
       "    </tr>\n",
       "    <tr>\n",
       "      <th>9542</th>\n",
       "      <td>0590353403</td>\n",
       "      <td>6.363095</td>\n",
       "      <td>168</td>\n",
       "    </tr>\n",
       "    <tr>\n",
       "      <th>...</th>\n",
       "      <td>...</td>\n",
       "      <td>...</td>\n",
       "      <td>...</td>\n",
       "    </tr>\n",
       "    <tr>\n",
       "      <th>452</th>\n",
       "      <td>0971880107</td>\n",
       "      <td>1.019584</td>\n",
       "      <td>2502</td>\n",
       "    </tr>\n",
       "    <tr>\n",
       "      <th>9508</th>\n",
       "      <td>0446356832</td>\n",
       "      <td>1.011905</td>\n",
       "      <td>84</td>\n",
       "    </tr>\n",
       "    <tr>\n",
       "      <th>5830</th>\n",
       "      <td>0425173534</td>\n",
       "      <td>0.970149</td>\n",
       "      <td>67</td>\n",
       "    </tr>\n",
       "    <tr>\n",
       "      <th>44645</th>\n",
       "      <td>1401088945</td>\n",
       "      <td>0.735294</td>\n",
       "      <td>68</td>\n",
       "    </tr>\n",
       "    <tr>\n",
       "      <th>24602</th>\n",
       "      <td>0345345738</td>\n",
       "      <td>0.549020</td>\n",
       "      <td>51</td>\n",
       "    </tr>\n",
       "  </tbody>\n",
       "</table>\n",
       "<p>2125 rows × 3 columns</p>\n",
       "</div>"
      ],
      "text/plain": [
       "             ISBN  Book-Rating-Mean  Book-Rating-Count\n",
       "13715  1844262553          7.962963                 54\n",
       "529    0439064864          6.611765                170\n",
       "9496   0439139597          6.541237                194\n",
       "9495   0439136350          6.467005                197\n",
       "9542   0590353403          6.363095                168\n",
       "...           ...               ...                ...\n",
       "452    0971880107          1.019584               2502\n",
       "9508   0446356832          1.011905                 84\n",
       "5830   0425173534          0.970149                 67\n",
       "44645  1401088945          0.735294                 68\n",
       "24602  0345345738          0.549020                 51\n",
       "\n",
       "[2125 rows x 3 columns]"
      ]
     },
     "execution_count": 20,
     "metadata": {},
     "output_type": "execute_result"
    }
   ],
   "source": [
    "books_with_ratings[books_with_ratings['Book-Rating-Count']>50].sort_values(by='Book-Rating-Mean', ascending=False)"
   ]
  },
  {
   "cell_type": "code",
   "execution_count": 21,
   "metadata": {},
   "outputs": [
    {
     "ename": "KeyError",
     "evalue": "'ISBN'",
     "output_type": "error",
     "traceback": [
      "\u001b[0;31m---------------------------------------------------------------------------\u001b[0m",
      "\u001b[0;31mKeyError\u001b[0m                                  Traceback (most recent call last)",
      "\u001b[0;32m~/.local/lib/python3.10/site-packages/pandas/core/indexes/base.py\u001b[0m in \u001b[0;36mget_loc\u001b[0;34m(self, key, method, tolerance)\u001b[0m\n\u001b[1;32m   3802\u001b[0m             \u001b[0;32mtry\u001b[0m\u001b[0;34m:\u001b[0m\u001b[0;34m\u001b[0m\u001b[0;34m\u001b[0m\u001b[0m\n\u001b[0;32m-> 3803\u001b[0;31m                 \u001b[0;32mreturn\u001b[0m \u001b[0mself\u001b[0m\u001b[0;34m.\u001b[0m\u001b[0m_engine\u001b[0m\u001b[0;34m.\u001b[0m\u001b[0mget_loc\u001b[0m\u001b[0;34m(\u001b[0m\u001b[0mcasted_key\u001b[0m\u001b[0;34m)\u001b[0m\u001b[0;34m\u001b[0m\u001b[0;34m\u001b[0m\u001b[0m\n\u001b[0m\u001b[1;32m   3804\u001b[0m             \u001b[0;32mexcept\u001b[0m \u001b[0mKeyError\u001b[0m \u001b[0;32mas\u001b[0m \u001b[0merr\u001b[0m\u001b[0;34m:\u001b[0m\u001b[0;34m\u001b[0m\u001b[0;34m\u001b[0m\u001b[0m\n",
      "\u001b[0;32m~/.local/lib/python3.10/site-packages/pandas/_libs/index.pyx\u001b[0m in \u001b[0;36mpandas._libs.index.IndexEngine.get_loc\u001b[0;34m()\u001b[0m\n",
      "\u001b[0;32m~/.local/lib/python3.10/site-packages/pandas/_libs/index.pyx\u001b[0m in \u001b[0;36mpandas._libs.index.IndexEngine.get_loc\u001b[0;34m()\u001b[0m\n",
      "\u001b[0;32mpandas/_libs/hashtable_class_helper.pxi\u001b[0m in \u001b[0;36mpandas._libs.hashtable.PyObjectHashTable.get_item\u001b[0;34m()\u001b[0m\n",
      "\u001b[0;32mpandas/_libs/hashtable_class_helper.pxi\u001b[0m in \u001b[0;36mpandas._libs.hashtable.PyObjectHashTable.get_item\u001b[0;34m()\u001b[0m\n",
      "\u001b[0;31mKeyError\u001b[0m: 'ISBN'",
      "\nThe above exception was the direct cause of the following exception:\n",
      "\u001b[0;31mKeyError\u001b[0m                                  Traceback (most recent call last)",
      "\u001b[0;32m/tmp/ipykernel_10300/3785867031.py\u001b[0m in \u001b[0;36m<module>\u001b[0;34m\u001b[0m\n\u001b[0;32m----> 1\u001b[0;31m \u001b[0mbooks\u001b[0m\u001b[0;34m.\u001b[0m\u001b[0mloc\u001b[0m\u001b[0;34m[\u001b[0m\u001b[0mbooks\u001b[0m\u001b[0;34m[\u001b[0m\u001b[0;34m'ISBN'\u001b[0m\u001b[0;34m]\u001b[0m\u001b[0;34m.\u001b[0m\u001b[0mstr\u001b[0m\u001b[0;34m.\u001b[0m\u001b[0mcontains\u001b[0m\u001b[0;34m(\u001b[0m\u001b[0;34m'0439064864'\u001b[0m\u001b[0;34m,\u001b[0m \u001b[0mcase\u001b[0m\u001b[0;34m=\u001b[0m\u001b[0;32mFalse\u001b[0m\u001b[0;34m)\u001b[0m\u001b[0;34m]\u001b[0m\u001b[0;34m\u001b[0m\u001b[0;34m\u001b[0m\u001b[0m\n\u001b[0m",
      "\u001b[0;32m~/.local/lib/python3.10/site-packages/pandas/core/frame.py\u001b[0m in \u001b[0;36m__getitem__\u001b[0;34m(self, key)\u001b[0m\n\u001b[1;32m   3802\u001b[0m             \u001b[0;32mif\u001b[0m \u001b[0mself\u001b[0m\u001b[0;34m.\u001b[0m\u001b[0mcolumns\u001b[0m\u001b[0;34m.\u001b[0m\u001b[0mnlevels\u001b[0m \u001b[0;34m>\u001b[0m \u001b[0;36m1\u001b[0m\u001b[0;34m:\u001b[0m\u001b[0;34m\u001b[0m\u001b[0;34m\u001b[0m\u001b[0m\n\u001b[1;32m   3803\u001b[0m                 \u001b[0;32mreturn\u001b[0m \u001b[0mself\u001b[0m\u001b[0;34m.\u001b[0m\u001b[0m_getitem_multilevel\u001b[0m\u001b[0;34m(\u001b[0m\u001b[0mkey\u001b[0m\u001b[0;34m)\u001b[0m\u001b[0;34m\u001b[0m\u001b[0;34m\u001b[0m\u001b[0m\n\u001b[0;32m-> 3804\u001b[0;31m             \u001b[0mindexer\u001b[0m \u001b[0;34m=\u001b[0m \u001b[0mself\u001b[0m\u001b[0;34m.\u001b[0m\u001b[0mcolumns\u001b[0m\u001b[0;34m.\u001b[0m\u001b[0mget_loc\u001b[0m\u001b[0;34m(\u001b[0m\u001b[0mkey\u001b[0m\u001b[0;34m)\u001b[0m\u001b[0;34m\u001b[0m\u001b[0;34m\u001b[0m\u001b[0m\n\u001b[0m\u001b[1;32m   3805\u001b[0m             \u001b[0;32mif\u001b[0m \u001b[0mis_integer\u001b[0m\u001b[0;34m(\u001b[0m\u001b[0mindexer\u001b[0m\u001b[0;34m)\u001b[0m\u001b[0;34m:\u001b[0m\u001b[0;34m\u001b[0m\u001b[0;34m\u001b[0m\u001b[0m\n\u001b[1;32m   3806\u001b[0m                 \u001b[0mindexer\u001b[0m \u001b[0;34m=\u001b[0m \u001b[0;34m[\u001b[0m\u001b[0mindexer\u001b[0m\u001b[0;34m]\u001b[0m\u001b[0;34m\u001b[0m\u001b[0;34m\u001b[0m\u001b[0m\n",
      "\u001b[0;32m~/.local/lib/python3.10/site-packages/pandas/core/indexes/base.py\u001b[0m in \u001b[0;36mget_loc\u001b[0;34m(self, key, method, tolerance)\u001b[0m\n\u001b[1;32m   3803\u001b[0m                 \u001b[0;32mreturn\u001b[0m \u001b[0mself\u001b[0m\u001b[0;34m.\u001b[0m\u001b[0m_engine\u001b[0m\u001b[0;34m.\u001b[0m\u001b[0mget_loc\u001b[0m\u001b[0;34m(\u001b[0m\u001b[0mcasted_key\u001b[0m\u001b[0;34m)\u001b[0m\u001b[0;34m\u001b[0m\u001b[0;34m\u001b[0m\u001b[0m\n\u001b[1;32m   3804\u001b[0m             \u001b[0;32mexcept\u001b[0m \u001b[0mKeyError\u001b[0m \u001b[0;32mas\u001b[0m \u001b[0merr\u001b[0m\u001b[0;34m:\u001b[0m\u001b[0;34m\u001b[0m\u001b[0;34m\u001b[0m\u001b[0m\n\u001b[0;32m-> 3805\u001b[0;31m                 \u001b[0;32mraise\u001b[0m \u001b[0mKeyError\u001b[0m\u001b[0;34m(\u001b[0m\u001b[0mkey\u001b[0m\u001b[0;34m)\u001b[0m \u001b[0;32mfrom\u001b[0m \u001b[0merr\u001b[0m\u001b[0;34m\u001b[0m\u001b[0;34m\u001b[0m\u001b[0m\n\u001b[0m\u001b[1;32m   3806\u001b[0m             \u001b[0;32mexcept\u001b[0m \u001b[0mTypeError\u001b[0m\u001b[0;34m:\u001b[0m\u001b[0;34m\u001b[0m\u001b[0;34m\u001b[0m\u001b[0m\n\u001b[1;32m   3807\u001b[0m                 \u001b[0;31m# If we have a listlike key, _check_indexing_error will raise\u001b[0m\u001b[0;34m\u001b[0m\u001b[0;34m\u001b[0m\u001b[0m\n",
      "\u001b[0;31mKeyError\u001b[0m: 'ISBN'"
     ]
    }
   ],
   "source": [
    "books.loc[books['ISBN'].str.contains('0439064864', case=False)] "
   ]
  },
  {
   "cell_type": "code",
   "execution_count": null,
   "metadata": {},
   "outputs": [],
   "source": [
    "books.loc[books['Book-Author'].str.contains('Immanuel Kant', case=False)] "
   ]
  },
  {
   "cell_type": "code",
   "execution_count": null,
   "metadata": {},
   "outputs": [],
   "source": [
    "books_with_ratings.iloc[1]['ISBN']"
   ]
  },
  {
   "cell_type": "code",
   "execution_count": null,
   "metadata": {},
   "outputs": [],
   "source": [
    "books_with_ratings[books_with_ratings['Book-Rating-Count']>50].sort_values(by='Book-Rating-Mean', ascending=False)['ISBN']"
   ]
  },
  {
   "cell_type": "code",
   "execution_count": null,
   "metadata": {},
   "outputs": [],
   "source": [
    "def get_book(isbn, df = books):\n",
    "    return df.loc[df['\"ISBN\"'].str.contains(isbn, case=False)]"
   ]
  },
  {
   "cell_type": "code",
   "execution_count": null,
   "metadata": {},
   "outputs": [],
   "source": [
    "get_book('0192126040')"
   ]
  },
  {
   "cell_type": "code",
   "execution_count": null,
   "metadata": {},
   "outputs": [],
   "source": [
    "def recommend_books(books_read, titles=books, reviews=books_with_ratings, mode='popularity', n=10, min_ratings=50):\n",
    "    titles_list = pd.DataFrame()\n",
    "    #reviews_list = pd.DataFrame()\n",
    "    popular = reviews[reviews['Book-Rating-Count']>min_ratings].sort_values(by='Book-Rating-Mean', ascending=False)\n",
    "    i = 0\n",
    "    while len(titles_list.index) < n:\n",
    "        # get most popular isbns\n",
    "        review = popular.iloc[i]\n",
    "        isbn = review['ISBN']\n",
    "        #print(titles_list)\n",
    "        if not books_read['\"ISBN\"'].str.contains(isbn).any():\n",
    "            title = get_book(isbn)\n",
    "            titles_list = pd.concat([title, titles_list])\n",
    "            #reviews_list = pd.concat([review, reviews_list])\n",
    "        i+=1\n",
    "    \n",
    "    #return_df = titles_df.merge(reviews_df, on='ISBN', axis=1)\n",
    "    return titles_list"
   ]
  },
  {
   "cell_type": "code",
   "execution_count": null,
   "metadata": {},
   "outputs": [],
   "source": [
    "books_with_ratings['ISBN'].str.contains('2080674722').any()"
   ]
  },
  {
   "cell_type": "code",
   "execution_count": null,
   "metadata": {},
   "outputs": [],
   "source": [
    "Kant = books.loc[books['\"Book-Author\"'].str.contains('Immanuel Kant', case=False)] \n",
    "recommend_books(Kant)"
   ]
  },
  {
   "cell_type": "code",
   "execution_count": null,
   "metadata": {},
   "outputs": [],
   "source": [
    "books['\"Book-Author\"']"
   ]
  },
  {
   "cell_type": "code",
   "execution_count": null,
   "metadata": {},
   "outputs": [],
   "source": [
    "of_age_users = users[users['Age']>50]\n",
    "of_age_users = of_age_users[of_age_users['User-ID'].isin(ratings['User-ID'])]"
   ]
  },
  {
   "cell_type": "code",
   "execution_count": null,
   "metadata": {},
   "outputs": [],
   "source": [
    "reviewers = users[users['User-ID'].isin(ratings['User-ID'])]"
   ]
  },
  {
   "cell_type": "code",
   "execution_count": null,
   "metadata": {},
   "outputs": [],
   "source": [
    "reviewers"
   ]
  },
  {
   "cell_type": "code",
   "execution_count": null,
   "metadata": {},
   "outputs": [],
   "source": [
    "adult_means = ratings[ratings['User-ID'].isin(of_age_users['User-ID'])].groupby(['ISBN'], sort=False, as_index=False).mean()\n",
    "adult_ratings = ratings[ratings['User-ID'].isin(of_age_users['User-ID'])].groupby(['ISBN'], sort=False, as_index=False).count()\n",
    "rated_by_adults = adult_means.merge(adult_ratings, on='ISBN', suffixes=('-Mean', '-Count')).drop(['User-ID-Mean', 'User-ID-Count'], axis=1)"
   ]
  },
  {
   "cell_type": "code",
   "execution_count": null,
   "metadata": {},
   "outputs": [],
   "source": [
    "recommend_books(Kant, min_ratings=2)"
   ]
  },
  {
   "cell_type": "code",
   "execution_count": null,
   "metadata": {},
   "outputs": [],
   "source": [
    "recommend_books(recommend_books(Kant, reviews=rated_by_adults, min_ratings=25), reviews=rated_by_adults, min_ratings=25)"
   ]
  },
  {
   "cell_type": "code",
   "execution_count": null,
   "metadata": {},
   "outputs": [],
   "source": []
  }
 ],
 "metadata": {
  "kernelspec": {
   "display_name": "Python 3 (ipykernel)",
   "language": "python",
   "name": "python3"
  },
  "language_info": {
   "codemirror_mode": {
    "name": "ipython",
    "version": 3
   },
   "file_extension": ".py",
   "mimetype": "text/x-python",
   "name": "python",
   "nbconvert_exporter": "python",
   "pygments_lexer": "ipython3",
   "version": "3.10.6"
  }
 },
 "nbformat": 4,
 "nbformat_minor": 4
}
